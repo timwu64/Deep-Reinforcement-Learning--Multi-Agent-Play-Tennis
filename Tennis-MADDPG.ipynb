{
 "cells": [
  {
   "cell_type": "markdown",
   "metadata": {},
   "source": [
    "# Collaboration and Competition\n",
    "\n",
    "---\n",
    "\n",
    "You are welcome to use this coding environment to train your agent for the project.  Follow the instructions below to get started!\n",
    "\n",
    "### 1. Start the Environment\n",
    "\n",
    "Run the next code cell to install a few packages.  This line will take a few minutes to run!"
   ]
  },
  {
   "cell_type": "code",
   "execution_count": 1,
   "metadata": {},
   "outputs": [
    {
     "name": "stdout",
     "output_type": "stream",
     "text": [
      "\u001b[31mtensorflow 1.7.1 has requirement numpy>=1.13.3, but you'll have numpy 1.12.1 which is incompatible.\u001b[0m\r\n",
      "\u001b[31mipython 6.5.0 has requirement prompt-toolkit<2.0.0,>=1.0.15, but you'll have prompt-toolkit 3.0.5 which is incompatible.\u001b[0m\r\n"
     ]
    }
   ],
   "source": [
    "!pip -q install ./python"
   ]
  },
  {
   "cell_type": "markdown",
   "metadata": {},
   "source": [
    "The environment is already saved in the Workspace and can be accessed at the file path provided below. "
   ]
  },
  {
   "cell_type": "code",
   "execution_count": 2,
   "metadata": {},
   "outputs": [],
   "source": [
    "import torch\n",
    "import numpy as np\n",
    "import matplotlib.pyplot as plt\n",
    "\n",
    "from unityagents import UnityEnvironment\n",
    "from collections import namedtuple, deque\n",
    "from maddpg import MADDPG"
   ]
  },
  {
   "cell_type": "code",
   "execution_count": 3,
   "metadata": {},
   "outputs": [
    {
     "name": "stderr",
     "output_type": "stream",
     "text": [
      "INFO:unityagents:\n",
      "'Academy' started successfully!\n",
      "Unity Academy name: Academy\n",
      "        Number of Brains: 1\n",
      "        Number of External Brains : 1\n",
      "        Lesson number : 0\n",
      "        Reset Parameters :\n",
      "\t\t\n",
      "Unity brain name: TennisBrain\n",
      "        Number of Visual Observations (per agent): 0\n",
      "        Vector Observation space type: continuous\n",
      "        Vector Observation space size (per agent): 8\n",
      "        Number of stacked Vector Observation: 3\n",
      "        Vector Action space type: continuous\n",
      "        Vector Action space size (per agent): 2\n",
      "        Vector Action descriptions: , \n"
     ]
    }
   ],
   "source": [
    "env = UnityEnvironment(file_name=\"/data/Tennis_Linux_NoVis/Tennis\")"
   ]
  },
  {
   "cell_type": "markdown",
   "metadata": {},
   "source": [
    "Environments contain **_brains_** which are responsible for deciding the actions of their associated agents. Here we check for the first brain available, and set it as the default brain we will be controlling from Python."
   ]
  },
  {
   "cell_type": "code",
   "execution_count": 4,
   "metadata": {},
   "outputs": [],
   "source": [
    "# get the default brain\n",
    "brain_name = env.brain_names[0]\n",
    "brain = env.brains[brain_name]"
   ]
  },
  {
   "cell_type": "markdown",
   "metadata": {},
   "source": [
    "### 2. Examine the State and Action Spaces\n",
    "\n",
    "Run the code cell below to print some information about the environment."
   ]
  },
  {
   "cell_type": "code",
   "execution_count": 5,
   "metadata": {},
   "outputs": [
    {
     "name": "stdout",
     "output_type": "stream",
     "text": [
      "Number of agents: 2\n",
      "Size of each action: 2\n",
      "There are 2 agents. Each observes a state with length: 24\n",
      "The state for the first agent looks like: [ 0.          0.          0.          0.          0.          0.          0.\n",
      "  0.          0.          0.          0.          0.          0.          0.\n",
      "  0.          0.         -6.65278625 -1.5        -0.          0.\n",
      "  6.83172083  6.         -0.          0.        ]\n"
     ]
    }
   ],
   "source": [
    "# reset the environment\n",
    "env_info = env.reset(train_mode=True)[brain_name]\n",
    "\n",
    "# number of agents \n",
    "num_agents = len(env_info.agents)\n",
    "print('Number of agents:', num_agents)\n",
    "\n",
    "# size of each action\n",
    "action_size = brain.vector_action_space_size\n",
    "print('Size of each action:', action_size)\n",
    "\n",
    "# examine the state space \n",
    "states = env_info.vector_observations\n",
    "state_size = states.shape[1]\n",
    "print('There are {} agents. Each observes a state with length: {}'.format(states.shape[0], state_size))\n",
    "print('The state for the first agent looks like:', states[0])"
   ]
  },
  {
   "cell_type": "markdown",
   "metadata": {},
   "source": [
    "### 3. Take Random Actions in the Environment\n",
    "\n",
    "In the next code cell, you will learn how to use the Python API to control the agent and receive feedback from the environment.\n",
    "\n",
    "Note that **in this coding environment, you will not be able to watch the agents while they are training**, and you should set `train_mode=True` to restart the environment."
   ]
  },
  {
   "cell_type": "code",
   "execution_count": 6,
   "metadata": {},
   "outputs": [
    {
     "name": "stdout",
     "output_type": "stream",
     "text": [
      "Total score (averaged over agents) this episode: 0.04500000178813934\n",
      "Total score (averaged over agents) this episode: -0.004999999888241291\n",
      "Total score (averaged over agents) this episode: -0.004999999888241291\n",
      "Total score (averaged over agents) this episode: -0.004999999888241291\n",
      "Total score (averaged over agents) this episode: -0.004999999888241291\n"
     ]
    }
   ],
   "source": [
    "for i in range(5):                                         # play game for 5 episodes\n",
    "    env_info = env.reset(train_mode=False)[brain_name]     # reset the environment    \n",
    "    states = env_info.vector_observations                  # get the current state (for each agent)\n",
    "    scores = np.zeros(num_agents)                          # initialize the score (for each agent)\n",
    "    while True:\n",
    "        actions = np.random.randn(num_agents, action_size) # select an action (for each agent)\n",
    "        actions = np.clip(actions, -1, 1)                  # all actions between -1 and 1\n",
    "        env_info = env.step(actions)[brain_name]           # send all actions to tne environment\n",
    "        next_states = env_info.vector_observations         # get next state (for each agent)\n",
    "        rewards = env_info.rewards                         # get reward (for each agent)\n",
    "        dones = env_info.local_done                        # see if episode finished\n",
    "        scores += env_info.rewards                         # update the score (for each agent)\n",
    "        states = next_states                               # roll over states to next time step\n",
    "        if np.any(dones):                                  # exit loop if episode finished\n",
    "            break\n",
    "    print('Total score (averaged over agents) this episode: {}'.format(np.mean(scores)))"
   ]
  },
  {
   "cell_type": "markdown",
   "metadata": {},
   "source": [
    "### 4. It's Your Turn!\n",
    "\n",
    "Now it's your turn to train your own agent to solve the environment!  A few **important notes**:\n",
    "- When training the environment, set `train_mode=True`, so that the line for resetting the environment looks like the following:\n",
    "```python\n",
    "env_info = env.reset(train_mode=True)[brain_name]\n",
    "```\n",
    "- To structure your work, you're welcome to work directly in this Jupyter notebook, or you might like to start over with a new file!  You can see the list of files in the workspace by clicking on **_Jupyter_** in the top left corner of the notebook.\n",
    "- In this coding environment, you will not be able to watch the agents while they are training.  However, **_after training the agents_**, you can download the saved model weights to watch the agents on your own machine! "
   ]
  },
  {
   "cell_type": "code",
   "execution_count": 7,
   "metadata": {},
   "outputs": [
    {
     "name": "stdout",
     "output_type": "stream",
     "text": [
      "/home/workspace/Tennis_ckpt_path/\n"
     ]
    }
   ],
   "source": [
    "import os\n",
    "current_path = os.getcwd()\n",
    "ckpt_path_folder = \"Tennis_ckpt_path\"\n",
    "ckpt_path_loc = (current_path+\"/\"+ckpt_path_folder+\"/\")\n",
    "print(ckpt_path_loc)"
   ]
  },
  {
   "cell_type": "code",
   "execution_count": 8,
   "metadata": {},
   "outputs": [],
   "source": [
    "import shutil\n",
    "if os.path.exists(ckpt_path_loc):\n",
    "    #shutil.rmtree(ckpt_path_loc, ignore_errors=True)\n",
    "    files = os.listdir(ckpt_path_loc)\n",
    "    files\n",
    "else:\n",
    "    print(\"The local file directory does not exist\")"
   ]
  },
  {
   "cell_type": "code",
   "execution_count": 9,
   "metadata": {},
   "outputs": [],
   "source": [
    "if not os.path.exists(ckpt_path_loc):\n",
    "    os.makedirs(ckpt_path_loc)"
   ]
  },
  {
   "cell_type": "code",
   "execution_count": 10,
   "metadata": {},
   "outputs": [
    {
     "data": {
      "text/plain": [
       "['config.py',\n",
       " '.ipynb_checkpoints',\n",
       " 'python',\n",
       " 'workspace_utils.py',\n",
       " 'Tennis.ipynb',\n",
       " '__pycache__',\n",
       " 'maddpg.py',\n",
       " 'Tennis_ckpt_path',\n",
       " 'ddpg_agent.py',\n",
       " 'Tennis_DDPG_ckpt_path',\n",
       " 'model.py',\n",
       " 'unity-environment.log']"
      ]
     },
     "execution_count": 10,
     "metadata": {},
     "output_type": "execute_result"
    }
   ],
   "source": [
    "files = os.listdir(current_path)\n",
    "files"
   ]
  },
  {
   "cell_type": "code",
   "execution_count": 11,
   "metadata": {},
   "outputs": [
    {
     "name": "stdout",
     "output_type": "stream",
     "text": [
      "Number of agents: 2\n",
      "Size of each action: 2\n",
      "Size of state: 24\n"
     ]
    }
   ],
   "source": [
    "# number of agents\n",
    "num_agents = len(env_info.agents)\n",
    "print('Number of agents:', num_agents)\n",
    "\n",
    "# size of each action\n",
    "action_size = brain.vector_action_space_size\n",
    "print('Size of each action:', action_size)\n",
    "\n",
    "# examine the state space \n",
    "states = env_info.vector_observations\n",
    "state_size = states.shape[1]\n",
    "print('Size of state:', state_size)"
   ]
  },
  {
   "cell_type": "code",
   "execution_count": 12,
   "metadata": {},
   "outputs": [],
   "source": [
    "import time\n",
    "start = time.time()\n",
    "# Set parameters for training\n",
    "n_episodes_max = 10000     # number of training episodes\n",
    "max_t = 1000               # number of timesteps per episode\n",
    "TARGET_SCORE = 0.5\n",
    "actor_ckpt_path = 'Tennis_ckpt_path/checkpoint_actor.pth'\n",
    "critic_ckpt_path = 'Tennis_ckpt_path/checkpoint_critic.pth'\n",
    "\n",
    "from config import Config\n",
    "# config settings\n",
    "config = Config()\n",
    "config.num_agents = num_agents\n",
    "config.state_size = state_size\n",
    "config.action_size = action_size\n",
    "config.random_seed = 123\n",
    "config.actor_fc1_units = 128\n",
    "config.actor_fc2_units = 128\n",
    "config.critic_fcs1_units = 128\n",
    "config.critic_fc2_units = 128\n",
    "config.buffer_size = int(1e6)\n",
    "config.batch_size = 128\n",
    "config.gamma = 0.99\n",
    "config.tau = 0.2\n",
    "config.lr_actor = 2e-4\n",
    "config.lr_critic = 2e-4\n",
    "config.weight_decay = 0 \n",
    "config.ou_mu = 0\n",
    "config.ou_theta =0.15\n",
    "config.ou_sigma =0.1\n",
    "config.update_every_t_steps = 2\n",
    "config.num_of_updates = 1"
   ]
  },
  {
   "cell_type": "code",
   "execution_count": 13,
   "metadata": {},
   "outputs": [
    {
     "name": "stdout",
     "output_type": "stream",
     "text": [
      "[AGENT INFO] DDPG constructor initialized parameters:\n",
      " num_agents=2 \n",
      " state_size=24 \n",
      " action_size=2 \n",
      " random_seed=123 \n",
      " actor_fc1_units=128 \n",
      " actor_fc2_units=128 \n",
      " critic_fcs1_units=128 \n",
      " critic_fc2_units=128 \n",
      " buffer_size=1000000 \n",
      " batch_size=128 \n",
      " gamma=0.99 \n",
      " tau=0.2 \n",
      " lr_actor=0.0002 \n",
      " lr_critic=0.0002 \n",
      " weight_decay=0 \n",
      " ou_mu=0\n",
      " ou_theta=0.15\n",
      " ou_sigma=0.1\n",
      " update_every_t_steps=2\n",
      " num_of_updates=1\n",
      "\n",
      "[MODEL INFO] Actor initialized with parameters : state_size=24 action_size=2 seed=123 fc1_units=128 fc2_units=128\n",
      "[MODEL INFO] Actor initialized with parameters : state_size=24 action_size=2 seed=123 fc1_units=128 fc2_units=128\n",
      "[MODEL INFO] CRITIC initialized with parameters : state_size=24 action_size=2 seed=123 fcs1_units=128 fc2_units=128\n",
      "[MODEL INFO] CRITIC initialized with parameters : state_size=24 action_size=2 seed=123 fcs1_units=128 fc2_units=128\n"
     ]
    }
   ],
   "source": [
    "from ddpg_agent import Agent\n",
    "# Create the Agent\n",
    "agent = Agent(config)"
   ]
  },
  {
   "cell_type": "code",
   "execution_count": 14,
   "metadata": {},
   "outputs": [],
   "source": [
    "def ddpg(n_episodes=10000, max_t=1000,\n",
    "        actor_ckpt_path = actor_ckpt_path, \n",
    "        critic_ckpt_path = critic_ckpt_path):\n",
    "    \"\"\"Deep Deterministic Policy Gradient (DDPG)\n",
    "    \n",
    "    Params\n",
    "    ======\n",
    "        n_episodes (int): maximum number of training episodes\n",
    "        max_t (int): maximum number of timesteps per episode\n",
    "    \"\"\"\n",
    "    mean_scores = []\n",
    "    moving_avg_scores = []             # list containing the averaged over all agents for 100 consecutive episodes\n",
    "    \n",
    "    scores_window = deque(maxlen=100)  # last 100 scores\n",
    "    start_time = time.time()\n",
    "    \n",
    "    for i_episode in range(1, n_episodes+1):\n",
    "        env_info = env.reset(train_mode=True)[brain_name]        # reset the environment\n",
    "        states = env_info.vector_observations                    # get the current state\n",
    "        scores = np.zeros(num_agents)                            # initialize score for each agent\n",
    "        agent.reset()\n",
    "        final_score = 0\n",
    "        timestep = time.time()\n",
    "        \n",
    "        for t in range(max_t):\n",
    "            actions = agent.act(states, add_noise=True)          # select an action\n",
    "            env_info = env.step(actions)[brain_name]             # send all actions to tne environment\n",
    "            next_states = env_info.vector_observations           # get next state (for each agent)\n",
    "            rewards = env_info.rewards                           # get reward (for each agent)\n",
    "            dones = env_info.local_done                          # see if episode finished\n",
    "            \n",
    "            agent.step(states, actions, rewards, next_states, dones, t)\n",
    "            states = next_states                                 # roll over the state to next time step\n",
    "            scores += rewards                                    # update the score\n",
    "            if np.any(dones):                                    # exit loop if episode finished\n",
    "                break \n",
    "        \n",
    "        duration = time.time() - timestep                        # calculate the elapsed time\n",
    "        \n",
    "        avg_scores_all_agent = np.mean(scores)\n",
    "        scores_window.append(avg_scores_all_agent)               # save average score for all agnets in the episode to the time window\n",
    "        final_score = np.mean(scores_window)\n",
    "        mean_scores.append(avg_scores_all_agent)\n",
    "        moving_avg_scores.append(final_score) \n",
    "        \n",
    "        #print('\\rEpisode {} ({}s)\\tMin: {:.2f}\\tMax: {:.2f}\\tMean: {:.2f}'.format(i_episode, round(duration), np.min(scores), np.max(scores), np.mean(scores))) \n",
    "        if i_episode % 100 == 0:\n",
    "            print('\\rEpisode {} ({}min)\\tMoving Average Score (over time window): {:.2f}'.format(i_episode, round((time.time() - start_time)/60), final_score))\n",
    "        \n",
    "        if final_score>=TARGET_SCORE and i_episode >= 100:\n",
    "            print('\\nEnvironment solved in {:d} episodes!\\tAverage Score: {:.2f}'.format(i_episode, final_score))\n",
    "\n",
    "            torch.save(agent.actor_local.state_dict(), actor_ckpt_path)\n",
    "            torch.save(agent.critic_local.state_dict(), critic_ckpt_path)\n",
    "            break\n",
    "    return mean_scores, moving_avg_scores"
   ]
  },
  {
   "cell_type": "code",
   "execution_count": 15,
   "metadata": {},
   "outputs": [
    {
     "name": "stdout",
     "output_type": "stream",
     "text": [
      "[AGENT INFO] DDPG constructor initialized parameters:\n",
      " num_agents=2 \n",
      " state_size=24 \n",
      " action_size=2 \n",
      " random_seed=123 \n",
      " actor_fc1_units=128 \n",
      " actor_fc2_units=128 \n",
      " critic_fcs1_units=128 \n",
      " critic_fc2_units=128 \n",
      " buffer_size=1000000 \n",
      " batch_size=128 \n",
      " gamma=0.99 \n",
      " tau=0.2 \n",
      " lr_actor=0.0002 \n",
      " lr_critic=0.0002 \n",
      " weight_decay=0 \n",
      " ou_mu=0\n",
      " ou_theta=0.15\n",
      " ou_sigma=0.1\n",
      " update_every_t_steps=2\n",
      " num_of_updates=1\n",
      "\n",
      "[MODEL INFO] Actor initialized with parameters : state_size=24 action_size=2 seed=123 fc1_units=128 fc2_units=128\n",
      "[MODEL INFO] Actor initialized with parameters : state_size=24 action_size=2 seed=123 fc1_units=128 fc2_units=128\n",
      "[MODEL INFO] CRITIC initialized with parameters : state_size=24 action_size=2 seed=123 fcs1_units=128 fc2_units=128\n",
      "[MODEL INFO] CRITIC initialized with parameters : state_size=24 action_size=2 seed=123 fcs1_units=128 fc2_units=128\n"
     ]
    }
   ],
   "source": [
    "from ddpg_agent import Agent\n",
    "# Create the Agent\n",
    "agent = Agent(config)"
   ]
  },
  {
   "cell_type": "code",
   "execution_count": 16,
   "metadata": {},
   "outputs": [
    {
     "name": "stdout",
     "output_type": "stream",
     "text": [
      "Episode 100 (0min)\tMoving Average Score (over time window): -0.00\n",
      "Episode 200 (0min)\tMoving Average Score (over time window): 0.02\n",
      "Episode 300 (1min)\tMoving Average Score (over time window): 0.03\n",
      "Episode 400 (1min)\tMoving Average Score (over time window): 0.01\n",
      "Episode 500 (1min)\tMoving Average Score (over time window): 0.04\n",
      "Episode 600 (2min)\tMoving Average Score (over time window): 0.19\n",
      "Episode 700 (4min)\tMoving Average Score (over time window): 0.36\n",
      "Episode 800 (7min)\tMoving Average Score (over time window): 0.41\n",
      "Episode 900 (9min)\tMoving Average Score (over time window): 0.39\n",
      "Episode 1000 (11min)\tMoving Average Score (over time window): 0.29\n",
      "Episode 1100 (13min)\tMoving Average Score (over time window): 0.31\n",
      "Episode 1200 (15min)\tMoving Average Score (over time window): 0.22\n",
      "Episode 1300 (17min)\tMoving Average Score (over time window): 0.41\n",
      "\n",
      "Environment solved in 1321 episodes!\tAverage Score: 0.50\n"
     ]
    }
   ],
   "source": [
    "# Train the Agent\n",
    "from workspace_utils import active_session\n",
    "with active_session():\n",
    "    scores, avgs = ddpg(n_episodes=n_episodes_max, \n",
    "                        max_t= max_t,\n",
    "                        actor_ckpt_path=actor_ckpt_path,\n",
    "                        critic_ckpt_path=critic_ckpt_path)"
   ]
  },
  {
   "cell_type": "code",
   "execution_count": 17,
   "metadata": {},
   "outputs": [
    {
     "name": "stdout",
     "output_type": "stream",
     "text": [
      "\n",
      "Elapsed Time: 18.28 mins.\n"
     ]
    }
   ],
   "source": [
    "end = time.time()\n",
    "elapsed = (end - start) / 60.0 # in minutes\n",
    "print(\"\\nElapsed Time: {0:3.2f} mins.\".format(elapsed))"
   ]
  },
  {
   "cell_type": "code",
   "execution_count": 18,
   "metadata": {},
   "outputs": [
    {
     "data": {
      "image/png": "[encoded data removed]",
      "text/plain": [
       "<matplotlib.figure.Figure at 0x7f971f0eefd0>"
      ]
     },
     "metadata": {
      "needs_background": "light"
     },
     "output_type": "display_data"
    }
   ],
   "source": [
    "import matplotlib.pyplot as plt\n",
    "%matplotlib inline\n",
    "# plot the scores\n",
    "fig = plt.figure()\n",
    "ax = fig.add_subplot(111)\n",
    "plt.plot(np.arange(len(scores)), scores, label='scores')\n",
    "plt.plot(np.arange(len(scores)), avgs, c='r', label='Average Score')\n",
    "plt.ylabel('Score')\n",
    "plt.xlabel('Episode #')\n",
    "plt.legend();\n",
    "plt.show()"
   ]
  },
  {
   "cell_type": "code",
   "execution_count": 19,
   "metadata": {},
   "outputs": [
    {
     "name": "stdout",
     "output_type": "stream",
     "text": [
      "Total score (averaged over agents) this episode: 1.3950000209733844\n"
     ]
    }
   ],
   "source": [
    "agent.actor_local.load_state_dict(torch.load(actor_ckpt_path))\n",
    "agent.critic_local.load_state_dict(torch.load(critic_ckpt_path))\n",
    "\n",
    "env_info = env.reset(train_mode=False)[brain_name]     # reset the environment    \n",
    "states = env_info.vector_observations                  # get the current state (for each agent)\n",
    "scores = np.zeros(num_agents)                          # initialize the score (for each agent)\n",
    "while True:\n",
    "    actions = agent.act(states)                        # select an action (for each agent)\n",
    "    env_info = env.step(actions)[brain_name]           # send all actions to tne environment\n",
    "    next_states = env_info.vector_observations         # get next state (for each agent)\n",
    "    rewards = env_info.rewards                         # get reward (for each agent)\n",
    "    dones = env_info.local_done                        # see if episode finished\n",
    "    scores += env_info.rewards                         # update the score (for each agent)\n",
    "    states = next_states                               # roll over states to next time step\n",
    "    if np.any(dones):                                  # exit loop if episode finished\n",
    "        break\n",
    "print('Total score (averaged over agents) this episode: {}'.format(np.mean(scores)))"
   ]
  },
  {
   "cell_type": "code",
   "execution_count": 20,
   "metadata": {},
   "outputs": [
    {
     "name": "stdout",
     "output_type": "stream",
     "text": [
      "[AGENT INFO] MADDPG constructor initialized parameters:\n",
      " num_agents=2 \n",
      " state_size=24 \n",
      " action_size=2 \n",
      " random_seed=123 \n",
      " actor_fc1_units=128 \n",
      " actor_fc2_units=128 \n",
      " critic_fcs1_units=128 \n",
      " critic_fc2_units=128 \n",
      " buffer_size=1000000 \n",
      " batch_size=128 \n",
      " gamma=0.99 \n",
      " tau=0.2 \n",
      " lr_actor=0.0002 \n",
      " lr_critic=0.0002 \n",
      " weight_decay=0 \n",
      " ou_mu=0\n",
      " ou_theta=0.15\n",
      " ou_sigma=0.1\n",
      " update_every_t_steps=2\n",
      "\n",
      "[AGENT INFO] DDPG constructor initialized parameters:\n",
      " num_agents=2 \n",
      " state_size=24 \n",
      " action_size=2 \n",
      " random_seed=123 \n",
      " actor_fc1_units=128 \n",
      " actor_fc2_units=128 \n",
      " critic_fcs1_units=128 \n",
      " critic_fc2_units=128 \n",
      " buffer_size=1000000 \n",
      " batch_size=128 \n",
      " gamma=0.99 \n",
      " tau=0.2 \n",
      " lr_actor=0.0002 \n",
      " lr_critic=0.0002 \n",
      " weight_decay=0 \n",
      " ou_mu=0\n",
      " ou_theta=0.15\n",
      " ou_sigma=0.1\n",
      " update_every_t_steps=2\n",
      " num_of_updates=1\n",
      "\n",
      "[MODEL INFO] Actor initialized with parameters : state_size=24 action_size=2 seed=123 fc1_units=128 fc2_units=128\n",
      "[MODEL INFO] Actor initialized with parameters : state_size=24 action_size=2 seed=123 fc1_units=128 fc2_units=128\n",
      "[MODEL INFO] CRITIC initialized with parameters : state_size=24 action_size=2 seed=123 fcs1_units=128 fc2_units=128\n",
      "[MODEL INFO] CRITIC initialized with parameters : state_size=24 action_size=2 seed=123 fcs1_units=128 fc2_units=128\n",
      "[AGENT INFO] DDPG constructor initialized parameters:\n",
      " num_agents=2 \n",
      " state_size=24 \n",
      " action_size=2 \n",
      " random_seed=123 \n",
      " actor_fc1_units=128 \n",
      " actor_fc2_units=128 \n",
      " critic_fcs1_units=128 \n",
      " critic_fc2_units=128 \n",
      " buffer_size=1000000 \n",
      " batch_size=128 \n",
      " gamma=0.99 \n",
      " tau=0.2 \n",
      " lr_actor=0.0002 \n",
      " lr_critic=0.0002 \n",
      " weight_decay=0 \n",
      " ou_mu=0\n",
      " ou_theta=0.15\n",
      " ou_sigma=0.1\n",
      " update_every_t_steps=2\n",
      " num_of_updates=1\n",
      "\n",
      "[MODEL INFO] Actor initialized with parameters : state_size=24 action_size=2 seed=123 fc1_units=128 fc2_units=128\n",
      "[MODEL INFO] Actor initialized with parameters : state_size=24 action_size=2 seed=123 fc1_units=128 fc2_units=128\n",
      "[MODEL INFO] CRITIC initialized with parameters : state_size=24 action_size=2 seed=123 fcs1_units=128 fc2_units=128\n",
      "[MODEL INFO] CRITIC initialized with parameters : state_size=24 action_size=2 seed=123 fcs1_units=128 fc2_units=128\n"
     ]
    }
   ],
   "source": [
    "from maddpg import MADDPG\n",
    "# Create the Agent\n",
    "maagent = MADDPG(config)"
   ]
  },
  {
   "cell_type": "code",
   "execution_count": 21,
   "metadata": {},
   "outputs": [],
   "source": [
    "def maddpg(n_episodes=10000, max_t=1000,\n",
    "        actor_ckpt_path = actor_ckpt_path, \n",
    "        critic_ckpt_path = critic_ckpt_path):\n",
    "    \"\"\"Deep Deterministic Policy Gradient (DDPG)\n",
    "    \n",
    "    Params\n",
    "    ======\n",
    "        n_episodes (int): maximum number of training episodes\n",
    "        max_t (int): maximum number of timesteps per episode\n",
    "    \"\"\"\n",
    "    mean_scores = []\n",
    "    moving_avg_scores = []             # list containing the averaged over all agents for 100 consecutive episodes\n",
    "    \n",
    "    scores_window = deque(maxlen=100)  # last 100 scores\n",
    "    start_time = time.time()\n",
    "    \n",
    "    for i_episode in range(1, n_episodes+1):\n",
    "        env_info = env.reset(train_mode=True)[brain_name]        # reset the environment\n",
    "        states = env_info.vector_observations                    # get the current state\n",
    "        scores = np.zeros(num_agents)                            # initialize score for each agent\n",
    "        maagent.reset()\n",
    "        final_score = 0\n",
    "        timestep = time.time()\n",
    "        \n",
    "        for t in range(max_t):\n",
    "            actions = maagent.act(states, add_noise=True)          # select an action\n",
    "            env_info = env.step(actions)[brain_name]             # send all actions to tne environment\n",
    "            next_states = env_info.vector_observations           # get next state (for each agent)\n",
    "            rewards = env_info.rewards                           # get reward (for each agent)\n",
    "            dones = env_info.local_done                          # see if episode finished\n",
    "            \n",
    "            maagent.step(states, actions, rewards, next_states, dones, t)\n",
    "            states = next_states                                 # roll over the state to next time step\n",
    "            scores += rewards                                    # update the score\n",
    "            if np.any(dones):                                    # exit loop if episode finished\n",
    "                break \n",
    "        \n",
    "        duration = time.time() - timestep                        # calculate the elapsed time\n",
    "        \n",
    "        avg_scores_all_agent = np.mean(scores)\n",
    "        scores_window.append(avg_scores_all_agent)               # save average score for all agnets in the episode to the time window\n",
    "        final_score = np.mean(scores_window)\n",
    "        mean_scores.append(avg_scores_all_agent)\n",
    "        moving_avg_scores.append(final_score) \n",
    "        \n",
    "        #print('\\rEpisode {} ({}s)\\tMin: {:.2f}\\tMax: {:.2f}\\tMean: {:.2f}'.format(i_episode, round(duration), np.min(scores), np.max(scores), np.mean(scores))) \n",
    "        if i_episode % 100 == 0:\n",
    "            print('\\rEpisode {} ({}min)\\tMoving Average Score (over time window): {:.2f}'.format(i_episode, round((time.time() - start_time)/60), final_score))\n",
    "            maagent.save_agents()\n",
    "        if final_score>=TARGET_SCORE and i_episode >= 100:\n",
    "            print('\\nEnvironment solved in {:d} episodes!\\tAverage Score: {:.2f}'.format(i_episode, final_score))\n",
    "\n",
    "            maagent.save_agents()\n",
    "            break\n",
    "    return mean_scores, moving_avg_scores"
   ]
  },
  {
   "cell_type": "code",
   "execution_count": 22,
   "metadata": {},
   "outputs": [
    {
     "name": "stdout",
     "output_type": "stream",
     "text": [
      "\r",
      "Episode 100 (0min)\tMoving Average Score (over time window): -0.00\n"
     ]
    },
    {
     "ename": "AttributeError",
     "evalue": "'MADDPG' object has no attribute 'agents'",
     "output_type": "error",
     "traceback": [
      "\u001b[0;31m---------------------------------------------------------------------------\u001b[0m",
      "\u001b[0;31mAttributeError\u001b[0m                            Traceback (most recent call last)",
      "\u001b[0;32m<ipython-input-22-8085ec910959>\u001b[0m in \u001b[0;36m<module>\u001b[0;34m()\u001b[0m\n\u001b[1;32m      5\u001b[0m                         \u001b[0mmax_t\u001b[0m\u001b[0;34m=\u001b[0m \u001b[0mmax_t\u001b[0m\u001b[0;34m,\u001b[0m\u001b[0;34m\u001b[0m\u001b[0m\n\u001b[1;32m      6\u001b[0m                         \u001b[0mactor_ckpt_path\u001b[0m\u001b[0;34m=\u001b[0m\u001b[0mactor_ckpt_path\u001b[0m\u001b[0;34m,\u001b[0m\u001b[0;34m\u001b[0m\u001b[0m\n\u001b[0;32m----> 7\u001b[0;31m                         critic_ckpt_path=critic_ckpt_path)\n\u001b[0m",
      "\u001b[0;32m<ipython-input-21-3e6878b7c720>\u001b[0m in \u001b[0;36mmaddpg\u001b[0;34m(n_episodes, max_t, actor_ckpt_path, critic_ckpt_path)\u001b[0m\n\u001b[1;32m     47\u001b[0m         \u001b[0;32mif\u001b[0m \u001b[0mi_episode\u001b[0m \u001b[0;34m%\u001b[0m \u001b[0;36m100\u001b[0m \u001b[0;34m==\u001b[0m \u001b[0;36m0\u001b[0m\u001b[0;34m:\u001b[0m\u001b[0;34m\u001b[0m\u001b[0m\n\u001b[1;32m     48\u001b[0m             \u001b[0mprint\u001b[0m\u001b[0;34m(\u001b[0m\u001b[0;34m'\\rEpisode {} ({}min)\\tMoving Average Score (over time window): {:.2f}'\u001b[0m\u001b[0;34m.\u001b[0m\u001b[0mformat\u001b[0m\u001b[0;34m(\u001b[0m\u001b[0mi_episode\u001b[0m\u001b[0;34m,\u001b[0m \u001b[0mround\u001b[0m\u001b[0;34m(\u001b[0m\u001b[0;34m(\u001b[0m\u001b[0mtime\u001b[0m\u001b[0;34m.\u001b[0m\u001b[0mtime\u001b[0m\u001b[0;34m(\u001b[0m\u001b[0;34m)\u001b[0m \u001b[0;34m-\u001b[0m \u001b[0mstart_time\u001b[0m\u001b[0;34m)\u001b[0m\u001b[0;34m/\u001b[0m\u001b[0;36m60\u001b[0m\u001b[0;34m)\u001b[0m\u001b[0;34m,\u001b[0m \u001b[0mfinal_score\u001b[0m\u001b[0;34m)\u001b[0m\u001b[0;34m)\u001b[0m\u001b[0;34m\u001b[0m\u001b[0m\n\u001b[0;32m---> 49\u001b[0;31m             \u001b[0mmaagent\u001b[0m\u001b[0;34m.\u001b[0m\u001b[0msave_agents\u001b[0m\u001b[0;34m(\u001b[0m\u001b[0;34m)\u001b[0m\u001b[0;34m\u001b[0m\u001b[0m\n\u001b[0m\u001b[1;32m     50\u001b[0m         \u001b[0;32mif\u001b[0m \u001b[0mfinal_score\u001b[0m\u001b[0;34m>=\u001b[0m\u001b[0mTARGET_SCORE\u001b[0m \u001b[0;32mand\u001b[0m \u001b[0mi_episode\u001b[0m \u001b[0;34m>=\u001b[0m \u001b[0;36m100\u001b[0m\u001b[0;34m:\u001b[0m\u001b[0;34m\u001b[0m\u001b[0m\n\u001b[1;32m     51\u001b[0m             \u001b[0mprint\u001b[0m\u001b[0;34m(\u001b[0m\u001b[0;34m'\\nEnvironment solved in {:d} episodes!\\tAverage Score: {:.2f}'\u001b[0m\u001b[0;34m.\u001b[0m\u001b[0mformat\u001b[0m\u001b[0;34m(\u001b[0m\u001b[0mi_episode\u001b[0m\u001b[0;34m,\u001b[0m \u001b[0mfinal_score\u001b[0m\u001b[0;34m)\u001b[0m\u001b[0;34m)\u001b[0m\u001b[0;34m\u001b[0m\u001b[0m\n",
      "\u001b[0;32m/home/workspace/maddpg.py\u001b[0m in \u001b[0;36msave_agents\u001b[0;34m(self)\u001b[0m\n\u001b[1;32m     49\u001b[0m     \u001b[0;32mdef\u001b[0m \u001b[0msave_agents\u001b[0m\u001b[0;34m(\u001b[0m\u001b[0mself\u001b[0m\u001b[0;34m)\u001b[0m\u001b[0;34m:\u001b[0m\u001b[0;34m\u001b[0m\u001b[0m\n\u001b[1;32m     50\u001b[0m         \u001b[0;31m# save models for local actor and critic of each agent\u001b[0m\u001b[0;34m\u001b[0m\u001b[0;34m\u001b[0m\u001b[0m\n\u001b[0;32m---> 51\u001b[0;31m         \u001b[0;32mfor\u001b[0m \u001b[0mi\u001b[0m\u001b[0;34m,\u001b[0m \u001b[0magent\u001b[0m \u001b[0;32min\u001b[0m \u001b[0menumerate\u001b[0m\u001b[0;34m(\u001b[0m\u001b[0mself\u001b[0m\u001b[0;34m.\u001b[0m\u001b[0magents\u001b[0m\u001b[0;34m)\u001b[0m\u001b[0;34m:\u001b[0m\u001b[0;34m\u001b[0m\u001b[0m\n\u001b[0m\u001b[1;32m     52\u001b[0m             \u001b[0mtorch\u001b[0m\u001b[0;34m.\u001b[0m\u001b[0msave\u001b[0m\u001b[0;34m(\u001b[0m\u001b[0magent\u001b[0m\u001b[0;34m.\u001b[0m\u001b[0mactor_local\u001b[0m\u001b[0;34m.\u001b[0m\u001b[0mstate_dict\u001b[0m\u001b[0;34m(\u001b[0m\u001b[0;34m)\u001b[0m\u001b[0;34m,\u001b[0m  \u001b[0;34mf\"checkpoint_actor_agent_{i}.pth\"\u001b[0m\u001b[0;34m)\u001b[0m\u001b[0;34m\u001b[0m\u001b[0m\n\u001b[1;32m     53\u001b[0m             \u001b[0mtorch\u001b[0m\u001b[0;34m.\u001b[0m\u001b[0msave\u001b[0m\u001b[0;34m(\u001b[0m\u001b[0magent\u001b[0m\u001b[0;34m.\u001b[0m\u001b[0mcritic_local\u001b[0m\u001b[0;34m.\u001b[0m\u001b[0mstate_dict\u001b[0m\u001b[0;34m(\u001b[0m\u001b[0;34m)\u001b[0m\u001b[0;34m,\u001b[0m \u001b[0;34mf\"checkpoint_critic_agent_{i}.pth\"\u001b[0m\u001b[0;34m)\u001b[0m\u001b[0;34m\u001b[0m\u001b[0m\n",
      "\u001b[0;31mAttributeError\u001b[0m: 'MADDPG' object has no attribute 'agents'"
     ]
    }
   ],
   "source": [
    "# Train the Agent\n",
    "from workspace_utils import active_session\n",
    "with active_session():\n",
    "    scores, avgs = maddpg(n_episodes=n_episodes_max, \n",
    "                        max_t= max_t,\n",
    "                        actor_ckpt_path=actor_ckpt_path,\n",
    "                        critic_ckpt_path=critic_ckpt_path)"
   ]
  },
  {
   "cell_type": "code",
   "execution_count": null,
   "metadata": {},
   "outputs": [],
   "source": [
    "end = time.time()\n",
    "elapsed = (end - start) / 60.0 # in minutes\n",
    "print(\"\\nElapsed Time: {0:3.2f} mins.\".format(elapsed))"
   ]
  },
  {
   "cell_type": "code",
   "execution_count": null,
   "metadata": {},
   "outputs": [],
   "source": [
    "import matplotlib.pyplot as plt\n",
    "%matplotlib inline\n",
    "# plot the scores\n",
    "fig = plt.figure()\n",
    "ax = fig.add_subplot(111)\n",
    "plt.plot(np.arange(len(scores)), scores, label='scores')\n",
    "plt.plot(np.arange(len(scores)), avgs, c='r', label='Average Score')\n",
    "plt.ylabel('Score')\n",
    "plt.xlabel('Episode #')\n",
    "plt.legend();\n",
    "plt.show()"
   ]
  },
  {
   "cell_type": "code",
   "execution_count": null,
   "metadata": {},
   "outputs": [],
   "source": [
    "maagent.actor_local.load_state_dict(torch.load(actor_ckpt_path))\n",
    "maagent.critic_local.load_state_dict(torch.load(critic_ckpt_path))\n",
    "\n",
    "env_info = env.reset(train_mode=False)[brain_name]     # reset the environment    \n",
    "states = env_info.vector_observations                  # get the current state (for each agent)\n",
    "scores = np.zeros(num_agents)                          # initialize the score (for each agent)\n",
    "while True:\n",
    "    actions = agent.act(states)                        # select an action (for each agent)\n",
    "    env_info = env.step(actions)[brain_name]           # send all actions to tne environment\n",
    "    next_states = env_info.vector_observations         # get next state (for each agent)\n",
    "    rewards = env_info.rewards                         # get reward (for each agent)\n",
    "    dones = env_info.local_done                        # see if episode finished\n",
    "    scores += env_info.rewards                         # update the score (for each agent)\n",
    "    states = next_states                               # roll over states to next time step\n",
    "    if np.any(dones):                                  # exit loop if episode finished\n",
    "        break\n",
    "print('Total score (averaged over agents) this episode: {}'.format(np.mean(scores)))"
   ]
  },
  {
   "cell_type": "code",
   "execution_count": null,
   "metadata": {},
   "outputs": [],
   "source": [
    "env.close()"
   ]
  }
 ],
 "metadata": {
  "kernelspec": {
   "display_name": "Python 3",
   "language": "python",
   "name": "python3"
  },
  "language_info": {
   "codemirror_mode": {
    "name": "ipython",
    "version": 3
   },
   "file_extension": ".py",
   "mimetype": "text/x-python",
   "name": "python",
   "nbconvert_exporter": "python",
   "pygments_lexer": "ipython3",
   "version": "3.6.3"
  }
 },
 "nbformat": 4,
 "nbformat_minor": 2
}
